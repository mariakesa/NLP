{
 "cells": [
  {
   "cell_type": "code",
   "execution_count": 1,
   "id": "2ffe9cd2",
   "metadata": {},
   "outputs": [],
   "source": [
    "import pandas as pd\n",
    "import spacy"
   ]
  },
  {
   "cell_type": "code",
   "execution_count": 2,
   "id": "f6e0d255",
   "metadata": {
    "scrolled": false
   },
   "outputs": [
    {
     "name": "stdout",
     "output_type": "stream",
     "text": [
      "Time taken to read file:  12.702907085418701\n"
     ]
    }
   ],
   "source": [
    "path='/home/maria/Documents/ECHRData/echr_2_0_0_unstructured_cases.json'\n",
    "import time\n",
    "start=time.time()\n",
    "dat=pd.read_json(path)\n",
    "end=time.time()\n",
    "print('Time taken to read file: ', end-start)"
   ]
  },
  {
   "cell_type": "code",
   "execution_count": 3,
   "id": "8e9b755b",
   "metadata": {
    "scrolled": false
   },
   "outputs": [
    {
     "data": {
      "text/plain": [
       "1.4e-05"
      ]
     },
     "execution_count": 3,
     "metadata": {},
     "output_type": "execute_result"
    }
   ],
   "source": [
    "14000/10**9"
   ]
  },
  {
   "cell_type": "code",
   "execution_count": 4,
   "id": "e9a04113",
   "metadata": {},
   "outputs": [],
   "source": [
    "def json_to_text(doc):\n",
    "    def json_to_text_(doc):\n",
    "        res = []\n",
    "        if not len(doc['elements']):  # Remove this condition to add subsection titles \n",
    "            res.append(doc['content'])\n",
    "        for e in doc['elements']:\n",
    "            res.extend(json_to_text_(e))\n",
    "        return res\n",
    "    return '\\n'.join(json_to_text_(doc))\n",
    "\n",
    "dc=json_to_text(dat.loc[0,'content']['001-91993.docx'][0])"
   ]
  },
  {
   "cell_type": "code",
   "execution_count": 5,
   "id": "7bdb9494",
   "metadata": {
    "scrolled": true
   },
   "outputs": [
    {
     "data": {
      "text/plain": [
       "'1.\\xa0\\xa0The case originated in an application (no. 44399/05) against the  lodged with the Court under Article 34 of the Convention for the Protection of Human Rights and Fundamental Freedoms (“the Convention”) by three Hungarian nationals, Mr Lajos Weller and his twin sons, Dániel and Máté Weller (“the applicants”), on 6 December 2005.\\n2.\\xa0\\xa0The applicants, who had been granted legal aid, were represented by Mr T. Kőrösi, a lawyer practising in Cegléd. The Hungarian Government (“the Government”) were represented by Mr L. Höltzl, Agent, Ministry of Justice and Law Enforcement.\\n3.\\xa0\\xa0The applicants alleged that their exclusion from “maternity benefit”, on the ground of the nationality of the mother of the second and third applicants and the first applicant’s parental status, amounted to a violation of Article 14 taken together with Article 8 of the Convention.\\n4.\\xa0\\xa0On 20 September 2007 the Court decided to give notice of the application to the Government. Under the provisions of Article 29 § 3 of the Convention, it also decided to examine the merits of the application at the same time as its admissibility.'"
      ]
     },
     "execution_count": 5,
     "metadata": {},
     "output_type": "execute_result"
    }
   ],
   "source": [
    "dc"
   ]
  },
  {
   "cell_type": "code",
   "execution_count": 7,
   "id": "28f8261a",
   "metadata": {},
   "outputs": [
    {
     "name": "stdout",
     "output_type": "stream",
     "text": [
      "1 CARDINAL\n",
      "44399/05 CARDINAL\n",
      "Court ORG\n",
      "Article 34 of the Convention for the Protection of Human Rights and Fundamental Freedoms LAW\n",
      "the Convention WORK_OF_ART\n",
      "three CARDINAL\n",
      "Hungarian NORP\n",
      "Lajos Weller PERSON\n",
      "Dániel PERSON\n",
      "Máté Weller PERSON\n",
      "6 December 2005 DATE\n",
      "2 CARDINAL\n",
      "Mr T. Kőrösi PERSON\n",
      "Cegléd ORG\n",
      "The Hungarian Government ORG\n",
      "L. Höltzl PERSON\n",
      "Ministry of Justice ORG\n",
      "Law Enforcement PERSON\n",
      "3 CARDINAL\n",
      "second ORDINAL\n",
      "third ORDINAL\n",
      "first ORDINAL\n",
      "Article 14 LAW\n",
      "Article 8 of the Convention LAW\n",
      "4 CARDINAL\n",
      "20 September 2007 DATE\n",
      "Court ORG\n",
      "Article 29 § 3 of the Convention LAW\n"
     ]
    }
   ],
   "source": [
    "nlp = spacy.load(\"en_core_web_sm\")\n",
    "doc=nlp(dc)\n",
    "for ent in doc.ents:\n",
    "    print(ent.text, ent.label_)\n"
   ]
  },
  {
   "cell_type": "code",
   "execution_count": 8,
   "id": "098ce432",
   "metadata": {
    "scrolled": true
   },
   "outputs": [
    {
     "data": {
      "text/plain": [
       "[{'content': 'PROCEDURE',\n",
       "  'elements': [{'content': '1.\\xa0\\xa0The case originated in an application (no. 44399/05) against the  lodged with the Court under Article 34 of the Convention for the Protection of Human Rights and Fundamental Freedoms (“the Convention”) by three Hungarian nationals, Mr Lajos Weller and his twin sons, Dániel and Máté Weller (“the applicants”), on 6 December 2005.',\n",
       "    'elements': []},\n",
       "   {'content': '2.\\xa0\\xa0The applicants, who had been granted legal aid, were represented by Mr T. Kőrösi, a lawyer practising in Cegléd. The Hungarian Government (“the Government”) were represented by Mr L. Höltzl, Agent, Ministry of Justice and Law Enforcement.',\n",
       "    'elements': []},\n",
       "   {'content': '3.\\xa0\\xa0The applicants alleged that their exclusion from “maternity benefit”, on the ground of the nationality of the mother of the second and third applicants and the first applicant’s parental status, amounted to a violation of Article 14 taken together with Article 8 of the Convention.',\n",
       "    'elements': []},\n",
       "   {'content': '4.\\xa0\\xa0On 20 September 2007 the Court decided to give notice of the application to the Government. Under the provisions of Article 29 § 3 of the Convention, it also decided to examine the merits of the application at the same time as its admissibility.',\n",
       "    'elements': []}],\n",
       "  'section_name': 'procedure'},\n",
       " {'content': 'THE FACTS',\n",
       "  'elements': [{'content': 'THE CIRCUMSTANCES OF THE CASE',\n",
       "    'elements': [{'content': '5.\\xa0\\xa0The first applicant (“the applicant”), was born in 1974 and lives in . The second and the third applicant, Dániel Weller and Máté Weller, the applicant’s twin sons, were born in 2005 and live in .',\n",
       "      'elements': []},\n",
       "     {'content': 'A.\\xa0\\xa0The circumstances of the case',\n",
       "      'elements': [{'content': '6.\\xa0\\xa0The facts of the case, as submitted by the parties, may be summarised as follows.',\n",
       "        'elements': []},\n",
       "       {'content': '7.\\xa0\\xa0In 2000 the first applicant married a Romanian citizen, who currently lives in . The couple are raising four children from the previous marriage of the wife and they have successfully claimed numerous allowances on their behalf. On 30 June 2005 the wife gave birth to the second and third applicants. Both of them acquired Hungarian nationality by birth, through their father. At the material time, the mother held a residence permit (tartózkodási engedély). She was granted a settlement permit (letelepedési engedély) in May 2007.',\n",
       "        'elements': []},\n",
       "       {'content': '8.\\xa0\\xa0On 7 September 2005 the first applicant requested maternity benefit (anyasági támogatás) amounting to 148,000 Hungarian forints (HUF) from the  and Pest County Regional Directorate of the Hungarian Treasury in his own name and on behalf of his children.',\n",
       "        'elements': []},\n",
       "       {'content': '9.\\xa0\\xa0On 8 September 2005 the Regional Directorate refused the applicant’s claim. It pointed out that, in the light of the relevant provisions of Act no.\\xa084 of 1998 on Family Support (“the Act”), only mothers, adoptive parents and guardians were entitled to the benefit in question. It also noted that the natural father might only apply for such an allowance if the mother were deceased. The first applicant appealed.',\n",
       "        'elements': []},\n",
       "       {'content': '10.\\xa0\\xa0On 20 January 2006 the Hungarian Treasury dismissed his appeal. The Treasury established that, pursuant to the Act, only mothers with Hungarian citizenship might apply for maternity benefit. It further observed that the Act applies only to those non-Hungarian citizens who have obtained settlement permits (letelepedési engedély), being either refugees or citizens of another  of the European Union. It concluded that, since the applicant’s wife did not fall into either of these categories, the claim had to be rejected, since the natural father was not entitled to such benefits.',\n",
       "        'elements': []},\n",
       "       {'content': '11.\\xa0\\xa0On 6 March 2006 the first applicant sought judicial review before the . He argued that the legal background of the institution of maternity benefit, as well as the decisions of the competent Hungarian authorities, were discriminatory and contravened the Hungarian Constitution and Article 14 of the Convention.',\n",
       "        'elements': []},\n",
       "       {'content': '12.\\xa0\\xa0On 5 July 2005 the , finding that the administrative authorities’ decisions had been in compliance with the law, dismissed the applicant’s claim. It held, inter alia, that the purpose of maternity benefit was to support the mother and not the entire family or the children, therefore the latter could not be considered to have suffered discrimination.',\n",
       "        'elements': []},\n",
       "       {'content': '13.\\xa0\\xa0On 7 August 2006 the applicant lodged a constitutional complaint with the . These proceedings are apparently still pending.',\n",
       "        'elements': []}]},\n",
       "     {'content': 'B.\\xa0\\xa0Relevant domestic law',\n",
       "      'elements': [{'content': 'Act no. 84 of 1998 on Family Support',\n",
       "        'elements': [{'content': 'Section 2', 'elements': []},\n",
       "         {'content': 'The scope of the Act', 'elements': []},\n",
       "         {'content': '“The Act shall be applied – unless an international treaty regulates otherwise – to those living on the territory of the , who',\n",
       "          'elements': []},\n",
       "         {'content': 'a) are Hungarian nationals,', 'elements': []},\n",
       "         {'content': 'b) have obtained an immigration or settlement permit, and to those who have been recognised as refugees by the Hungarian authorities,',\n",
       "          'elements': []},\n",
       "         {'content': 'c) fall under the scope of Regulation (EEC) No 1612/68 of the Council of 15 October 1968 on freedom of movement for workers within the Community and – with the exception of the maternity benefit (Chapter IV of the Act) – of the Regulation (EEC) No. 140//71 on the application of social security schemes to employed persons, to self-employed persons and to members of their families moving within the Community, provided that such persons – with the exception of frontier workers – at the time of requesting the allowance have obtained a valid residence permit.”',\n",
       "          'elements': []},\n",
       "         {'content': 'Section 29', 'elements': []},\n",
       "         {'content': '“(1) Persons entitled to maternity benefit after giving birth are:',\n",
       "          'elements': []},\n",
       "         {'content': 'a) women who, during pregnancy, attended at least four times – in case of premature birth, once – prenatal care;',\n",
       "          'elements': []},\n",
       "         {'content': 'b) adoptive parents, if the adoption was finally authorised within 180 days of the birth;',\n",
       "          'elements': []},\n",
       "         {'content': 'c) the guardian, if the child – based on a final decision – was taken into his/her custody within 180 days of the birth.”',\n",
       "          'elements': []},\n",
       "         {'content': 'Section 30', 'elements': []},\n",
       "         {'content': '“If the woman entitled to maternity benefit dies before it is paid, then it shall be paid to the father living under the same roof or, in the absence of such a person, to the guardian of the child.”',\n",
       "          'elements': []},\n",
       "         {'content': 'Section 32', 'elements': []},\n",
       "         {'content': '“A request for maternity benefit may be submitted within 180 days of giving birth.”',\n",
       "          'elements': []}]}]}]}],\n",
       "  'section_name': 'facts'},\n",
       " {'content': 'THE LAW',\n",
       "  'elements': [{'content': 'I.\\xa0\\xa0ALLEGED VIOLATION OF ARTICLE 14 OF THE CONVENTION READ IN CONJUNCTION WITH ARTICLE 8 OF THE CONVENTION',\n",
       "    'elements': [{'content': '14.\\xa0\\xa0The applicants maintained that, when claiming maternity benefit, they had suffered discrimination because of the nationality of the mother of the second and the third applicants as well as the first applicant’s parental status. They relied on Article 14 of the Convention, read in conjunction with Article 8, which provide insofar as relevant as follows:',\n",
       "      'elements': []},\n",
       "     {'content': 'Article 14 of the Convention', 'elements': []},\n",
       "     {'content': '“The enjoyment of the rights and freedoms set forth in [the] Convention shall be secured without discrimination on any ground such as sex, race, colour, language, religion, political or other opinion, national or social origin, association with a national minority, property, birth or other status.”',\n",
       "      'elements': []},\n",
       "     {'content': 'Article 8 of the Convention', 'elements': []},\n",
       "     {'content': '“1.\\xa0\\xa0Everyone has the right to respect for his private and family life, ...',\n",
       "      'elements': []},\n",
       "     {'content': '2.\\xa0\\xa0There shall be no interference by a public authority with the exercise of this right except such as is in accordance with the law and is necessary in a democratic society in the interests of ... the economic well-being of the country, ... for the protection of health or morals, or for the protection of the rights and freedoms of others.”',\n",
       "      'elements': []},\n",
       "     {'content': 'A.\\xa0\\xa0Admissibility',\n",
       "      'elements': [{'content': '15.\\xa0\\xa0The Court notes that the application is not manifestly ill-founded within the meaning of Article 35 § 3 of the Convention. It further notes that it is not inadmissible on any other grounds. It must therefore be declared admissible.',\n",
       "        'elements': []}]},\n",
       "     {'content': 'B.\\xa0\\xa0Merits',\n",
       "      'elements': [{'content': '1.\\xa0\\xa0The parties’ submissions',\n",
       "        'elements': []}]},\n",
       "     {'content': '(a) The Government',\n",
       "      'elements': [{'content': '16.\\xa0\\xa0The Government submitted that the Contracting States enjoy a wide margin of appreciation in respect of welfare policy. Moreover, they pointed out that there was a substantial diversity of social security schemes in the Member States of the Council of Europe, particularly in the regulation of maternity allowances.',\n",
       "        'elements': []},\n",
       "       {'content': '17.\\xa0\\xa0The Government maintained that the aim of maternity allowances was primarily to facilitate the development of the foetus and for the mother to maintain a healthy life. Had it only been pecuniary assistance, it would have been sufficient to connect such a grant to the birth of the child. This was not the case, since future mothers had to participate in courses on parental care regularly in order to be entitled to the allowance. It is true that in the absence of natural parents, as a subsidiary rule, guardians may be entitled to the allowance, but this special requirement was not met in the present circumstances.',\n",
       "        'elements': []},\n",
       "       {'content': '18.\\xa0\\xa0Moreover, the Government drew attention to the fact that the mother in the present case had only obtained authorisation to reside in , but not a settlement permit since she most probably did not fulfil the requirements of the latter at the material time. Exclusion from the benefit served the purpose of reducing the number of marriages of convenience and establishing a verifiable allowance system. By acting in this way, the  did not overstep the limits of its margin of appreciation.',\n",
       "        'elements': []},\n",
       "       {'content': '19.\\xa0\\xa0Lastly, the Government underlined that from 1 January 2008 onwards all citizens of the European Union residing in  for more than three months are entitled to a maternity allowance under the same conditions as Hungarian citizens. In sum, the Government were of the view that the exclusion of the natural father from the benefit was not an unjustifiable difference in treatment.',\n",
       "        'elements': []}]},\n",
       "     {'content': '(b) The applicants',\n",
       "      'elements': [{'content': '20.\\xa0\\xa0The applicants submitted that the maternity benefit – although its name was misleading – did not aim at reducing the hardship of giving birth but at promoting the social security of families and diminishing the financial burdens ensuing from bringing up children, since not only mothers but adoptive parents and guardians were entitled to it. In their view, the primarily financial character of the allowance was also supported by the fact that it could only be claimed within 180 days of the birth.',\n",
       "        'elements': []},\n",
       "       {'content': '21.\\xa0\\xa0The applicants drew attention to the fact that the benefit was payable after birth when the responsibilities of the father and mother concerning the child became equal. The first applicant’s exclusion from the benefit therefore constituted an unjustifiable difference in treatment on the ground of his parental status.',\n",
       "        'elements': []},\n",
       "       {'content': '22.\\xa0\\xa0The applicants also submitted that section 29 of the Act was in itself discriminatory against all fathers, taking into consideration Article 5 of Protocol No. 7 to the Convention, since men with foreign spouses were treated less favourably in the enjoyment of the benefit than those with Hungarian wives. The applicants also maintained that any reluctance on the part of the mother to participate in the obligatory courses on parental care may justify different treatment in respect of her alone, but not in respect of the father, who may have shown that he cared for the unborn child in many other ways. In any event, the applicant’s wife attended the parental care courses, accompanied and assisted by the first applicant. Therefore the aim of protecting the foetus could not serve as a basis for the refusal to grant the allowance in the present case.',\n",
       "        'elements': []},\n",
       "       {'content': '23.\\xa0\\xa0Moreover, the applicants were of the view that the argument of Government concerning the legitimate aim of protecting the system of social welfare from abuse by immigrants was irrelevant, since all three of them have Hungarian citizenship. They drew attention to the fact, in this connection, that the mother had four children from her previous marriage and that the first applicant could claim, since the couple were also raising these children together, various social allowances on their behalf. The  did not raise the issue of abuse concerning those benefits; therefore it was illogical to use this argument in connection with maternity benefit, the amount of which was in any event rather small.',\n",
       "        'elements': []},\n",
       "       {'content': '24.\\xa0\\xa0The applicants also pointed out that, although it is true that the Member States enjoy a certain margin of appreciation when regulating such matters, the equality of the sexes is a major goal of Council of Europe. Therefore, there must be a compelling reason advanced before a difference in treatment on grounds of sex could be regarded as being compatible with the Convention. In their view, the Government had failed to put forward such an argument.',\n",
       "        'elements': []},\n",
       "       {'content': '25.\\xa0\\xa0Lastly, they argued that the exclusion of the second and third applicants from the benefit, although both of them were Hungarian nationals by birth, on account of their mother’s foreign nationality constituted an unjustified difference in treatment compared with other Hungarian children. In sum, they concluded that they had suffered discrimination in breach of Article 14 read in conjunction with Article 8 of the Convention.',\n",
       "        'elements': []},\n",
       "       {'content': '2.\\xa0\\xa0The Court’s assessment', 'elements': []}]},\n",
       "     {'content': '(a) General principles',\n",
       "      'elements': [{'content': '27.\\xa0\\xa0The Court has also held that not every difference in treatment will amount to a violation of Article 14. It must be established that other persons in an analogous or relevantly similar situation enjoy preferential treatment and that this distinction is discriminatory (Unal Tekeli v. Turkey, no.\\xa029865/96, § 49, 16 November 2004). A difference in treatment is discriminatory within the meaning of Article 14 if it has no objective and reasonable justification. The existence of such a justification must be assessed in relation to the principles which normally prevail in democratic societies. A difference in treatment in the exercise of a right laid down by the Convention must not only pursue a legitimate aim: Article 14 is likewise violated when it is clearly established that there is no “reasonable relationship of proportionality between the means employed and the aim sought to be realised” (see, for example, Petrovic, cited above, §\\xa030, and Lithgow and Others v.\\xa0the United Kingdom, judgment of 8\\xa0July\\xa01986, Series\\xa0A no.\\xa0102, §\\xa0177).',\n",
       "        'elements': []},\n",
       "       {'content': '28.\\xa0\\xa0The Contracting States enjoy a certain margin of appreciation in assessing whether and to what extent differences in otherwise similar situations justify a difference in treatment (Gaygusuz v. Austria, judgment of 16\\xa0September 1996, Reports 1996IV, §\\xa042). The scope of the margin of appreciation will vary according to the circumstances, the subject matter and its background (see Rasmussen v.\\xa0Denmark, judgment of 28\\xa0November 1984, Series\\xa0A no.\\xa087, §\\xa040, and Inze v.\\xa0Austria, judgment of 28\\xa0October 1987, Series\\xa0A no.\\xa0126, §\\xa041), but the final decision as to observance of the Convention’s requirements rests with the Court. Since the Convention is first and foremost a system for the protection of human rights, the Court must however have regard to the changing conditions in Contracting States and respond, for example, to any emerging consensus as to the standards to be achieved (see Unal Tekeli, judgment cited above, § 54, and, mutatis mutandis, Stafford v.\\xa0the United Kingdom [GC], no.\\xa046295/99, § 68, ECHR 2002IV).',\n",
       "        'elements': []}]},\n",
       "     {'content': '(b) Application of these principles to the present case',\n",
       "      'elements': [{'content': '29.\\xa0\\xa0The Court observes at the outset that it was not disputed between the parties that the applicant could rely on Article 14 of the Convention. Since, by granting the allowances in question, the Hungarian State was supporting the right to respect for family life within the meaning of Article 8 (see Petrovic, cited above, § 29), the Court sees no reason to hold otherwise. Moreover, it was not disputed that the applicants’ exclusion from the benefit amounted to a difference in treatment on grounds of the first applicant’s parental status and the nationality of the mother of the second and the third applicants. However, the Government argued that these differences pursued a legitimate aim and have been applied in a proportionate manner.',\n",
       "        'elements': []},\n",
       "       {'content': '30.\\xa0\\xa0The starting point of the Court’s assessment is the nature of the maternity benefit, since it is the key element when defining the group with which the applicants’ situation should be compared. The Court observes that this allowance related to the period after giving birth. For the Court, the primarily financial character of the benefit is well shown by the fact that adoptive parents and guardians and, in special circumstances, fathers may also claim it.',\n",
       "        'elements': []},\n",
       "       {'content': '31.\\xa0\\xa0The Court is of the view that this wide range of entitled persons proves that the allowance is aimed at supporting newborn children and the whole family raising them, and not only at reducing the hardship of giving birth sustained by the mother. The Government’s counter-argument, namely that the entitlement to the benefit was conditional on participation in parental care courses, cannot be decisive, since this requirement had to be fulfilled only by the mother. Adoptive parents or guardians were obviously exempt from that requirement.',\n",
       "        'elements': []},\n",
       "       {'content': '32.\\xa0\\xa0The applicants’ situation can therefore be compared to those families and their members enjoying maternity benefits.',\n",
       "        'elements': []},\n",
       "       {'content': '33.\\xa0\\xa0The Court reiterates that, while differences may exist between mother and father in their relationship with the child, both parents are “similarly placed” in taking care of the unborn child (see Petrovic, cited above, §\\xa036). It further draws attention to the fact that not only mothers but also adoptive parents and guardians were entitled to the benefit in dispute, while the first applicant was not. He was therefore differently treated on the grounds of his parental status compared with other persons who are similarly responsible for bringing up newborn children. However, the Court is of the view that this difference in treatment is not connected to the applicant’s sex, since adoptive parents or guardians, irrespective of their sex, were not excluded from the benefit.',\n",
       "        'elements': []},\n",
       "       {'content': '34.\\xa0\\xa0The Court recognises that the Contracting States enjoy a certain margin of appreciation in assessing whether and to what extent differences in otherwise similar situations justify different treatment under the law. Moreover, the Court notes that widely different social security systems exist in the Member States. However, the lack of a common standard does not absolve those States which adopt family allowance schemes from making such grants without discrimination.',\n",
       "        'elements': []},\n",
       "       {'content': '35.\\xa0\\xa0The Court observes that neither the domestic authorities nor the Government have put forward any objective and reasonable ground to justify the general exclusion of natural fathers from a benefit aimed at supporting all those who are raising newborn children, when mothers, adoptive parents and guardians are entitled to it. It therefore concludes that the first applicant suffered discrimination on the ground of his parental status in the exercise of his right to respect his family life.',\n",
       "        'elements': []},\n",
       "       {'content': '36.\\xa0\\xa0Concerning the second and the third applicants, the Court notes that there is no indication in the case file that the applicants’ mother abused or at least intended to misuse the Hungarian social security system. It is true that at the time of the events she only had a residence permit, but later she received a settlement permit (see paragraph 7), which shows that her situation in  was lawful and fully regulated by the authorities.',\n",
       "        'elements': []},\n",
       "       {'content': '37.\\xa0\\xa0The Court observes that, flowing from the relevant provisions of the Act, a family with children of a Hungarian mother and a foreign father are entitled to maternity benefits. However, this was not the situation of the second and the third applicants as their father is Hungarian and their mother a foreigner. They were therefore prevented from benefitting from such an allowance on the basis of this difference.',\n",
       "        'elements': []},\n",
       "       {'content': '38.\\xa0\\xa0The Court finds no reasonable justification for this practice. It considers that the entitlement to an allowance due to a family under sections\\xa01 and 2 of the Act cannot be dependent on which of the two biological parents of the children is a Hungarian national. The Court would add that it is irrelevant that, as of 1 January 2008, the applicants’ mother became entitled to the allowance under the same conditions as Hungarian nationals, because by then she was barred from claiming it as the request had to be made within 180 days of the children’s birth and could not be made retroactively.',\n",
       "        'elements': []},\n",
       "       {'content': '39.\\xa0\\xa0In sum, since the Government have failed to put forward any convincing argument to justify the second and third applicants’ exclusion from the benefit of the allowance in question, the Court concludes that this difference in treatment amounted to discrimination.',\n",
       "        'elements': []},\n",
       "       {'content': '40.\\xa0\\xa0Having regard to the above considerations, the Court concludes that there has been a violation in the instant case of Article 14 of the Convention, read in conjunction with Article 8, as regards each of the applicants.',\n",
       "        'elements': []}]}]},\n",
       "   {'content': 'II.\\xa0\\xa0APPLICATION OF ARTICLE 41 OF THE CONVENTION',\n",
       "    'elements': [{'content': '41.\\xa0\\xa0Article 41 of the Convention provides:',\n",
       "      'elements': []},\n",
       "     {'content': '“If the Court finds that there has been a violation of the Convention or the Protocols thereto, and if the internal law of the High Contracting Party concerned allows only partial reparation to be made, the Court shall, if necessary, afford just satisfaction to the injured party.”',\n",
       "      'elements': []},\n",
       "     {'content': 'A.\\xa0\\xa0Damage',\n",
       "      'elements': [{'content': '42.\\xa0\\xa0The applicants claimed, jointly, HUF 179,719 (approximately EUR\\xa0720) in pecuniary damages, which sum corresponds to the actual loss originating from the refusal of maternity benefits, plus interest. Moreover, they claimed 4,000 euros (EUR), jointly, in respect of non-pecuniary damage.',\n",
       "        'elements': []},\n",
       "       {'content': '43.\\xa0\\xa0The Government considered the applicants’ claim excessive.',\n",
       "        'elements': []},\n",
       "       {'content': '44.\\xa0\\xa0The Court finds that the applicants have sustained pecuniary damage from the refusal to grant them this allowance. The Court therefore awards the applicants the entirety of the sum requested under this head. The Court also considers that the applicants can reasonably be deemed to have suffered some non-pecuniary damage in the circumstances. Making its assessment on an equitable basis, the Court finds it reasonable to award them, jointly, EUR 1,500 under this head.',\n",
       "        'elements': []}]},\n",
       "     {'content': 'B.\\xa0\\xa0Costs and expenses',\n",
       "      'elements': [{'content': '45.\\xa0\\xa0The applicant claimed, jointly, EUR 1,500 plus 20% VAT, for the legal fees incurred before the domestic courts and the Court. They submitted the agreement concluded with their lawyer, according to which they would only be billed if the case ended successfully.',\n",
       "        'elements': []},\n",
       "       {'content': '46.\\xa0\\xa0According to the Court’s case-law, an applicant is entitled to reimbursement of costs and expenses only in so far as it has been shown that these have been actually and necessarily incurred and were reasonable as to quantum. In the present case, regard being had to the documents in its possession and the above criteria, the Court finds it reasonable to award the sum claimed in its entirety, less the sum of EUR 850 which the applicants have already been paid under the legal-aid scheme of the Council of Europe, making an overall award of EUR 950 (including provision for 20% VAT).',\n",
       "        'elements': []}]},\n",
       "     {'content': 'C.\\xa0\\xa0Default interest',\n",
       "      'elements': [{'content': '47.\\xa0\\xa0The Court considers it appropriate that the default interest should be based on the marginal lending rate of the European Central Bank, to which should be added three percentage points.',\n",
       "        'elements': []}]}]}],\n",
       "  'section_name': 'law'},\n",
       " {'content': 'FOR THESE REASONS, THE COURT UNANIMOUSLY',\n",
       "  'elements': [{'content': '1.\\xa0\\xa0Declares the application admissible;',\n",
       "    'elements': []},\n",
       "   {'content': '2.\\xa0\\xa0Holds that there has been a violation of Article\\xa014 of the Convention read in conjunction with Article 8 of the Convention;',\n",
       "    'elements': []},\n",
       "   {'content': '3.\\xa0\\xa0Holds', 'elements': []},\n",
       "   {'content': '(b)\\xa0\\xa0that from the expiry of the above-mentioned three months until settlement simple interest shall be payable on the above amounts at a rate equal to the marginal lending rate of the European Central Bank during the default period plus three percentage points.',\n",
       "    'elements': []},\n",
       "   {'content': 'Done in English, and notified in writing on 31 March 2009, pursuant to Rule 77 §§ 2 and 3 of the Rules of Court.',\n",
       "    'elements': []},\n",
       "   {'content': 'In accordance with Article 45 § 2 of the Convention and Rule 74 § 2 of the Rules of Court, the concurring opinion of Judge Tulkens is annexed to this judgment.',\n",
       "    'elements': []},\n",
       "   {'content': 'I fully agree with the absolute necessity and Convention obligation of abolishing all forms of discrimination, including on grounds of sex, in the enjoyment of the rights guaranteed by the Convention. However, in the present case the relatively artificial nature of the application troubles me for two reasons.',\n",
       "    'elements': []},\n",
       "   {'content': 'Firstly, as the benefit in question is expressly called maternity benefit, the main purpose of which is to allow mothers to recover after pregnancy and giving birth and to breastfeed their child, I think that the mother is the first “victim” of the refusal to award the benefit. The situation we have here is therefore not the same, it appears to me, as the one in Petrovic v. Austria of 27 March 1998, which concerned parental leave and in which the benefit in question, the provision for which was made under the unemployment insurance scheme, compensated the loss of salary. What was at stake in that case was the financial assistance for young parents that allowed them to take time out from work in order to look after their newborn child and in respect of which, in my view, there is no justification for treating fathers and mothers differently (see the joint dissenting opinion of Judges Bernhardt and Spielmann).',\n",
       "    'elements': []},\n",
       "   {'content': 'Secondly, if the children’s mother had herself lodged an application with the Court, the refusal to award her maternity benefit on the basis of nationality could certainly have been challenged, on the basis of our case-law, as being contrary to Article 14 of the Convention taken together with Article 8, construed, inter alia, in the light of Article\\xa012\\xa0§\\xa04 of the European Social Charter, which provides that domestic law cannot reserve social-security rights to their own nationals.',\n",
       "    'elements': []},\n",
       "   {'content': 'Secondly, if the children’s mother had herself lodged an application with the Court, the refusal to award her maternity benefit on the basis of nationality could certainly have been challenged, on the basis of our case-law, as being contrary to Article 14 of the Convention taken together with Article 8, construed, inter alia, in the light of Article\\xa012\\xa0§\\xa04 of the European Social Charter, which provides that domestic law cannot reserve social-security rights to their own nationals.',\n",
       "    'elements': []}],\n",
       "  'section_name': 'conclusion'}]"
      ]
     },
     "execution_count": 8,
     "metadata": {},
     "output_type": "execute_result"
    }
   ],
   "source": [
    "dat.loc[0,'content']['001-91993.docx'][:]"
   ]
  },
  {
   "cell_type": "code",
   "execution_count": 11,
   "id": "10c1bd6b",
   "metadata": {},
   "outputs": [
    {
     "name": "stdout",
     "output_type": "stream",
     "text": [
      "cuda\n"
     ]
    },
    {
     "name": "stderr",
     "output_type": "stream",
     "text": [
      "Some weights of the model checkpoint at nlpaueb/bert-base-uncased-echr were not used when initializing BertForTokenClassification: ['cls.predictions.transform.LayerNorm.bias', 'cls.predictions.transform.dense.bias', 'cls.predictions.transform.LayerNorm.weight', 'cls.predictions.transform.dense.weight', 'cls.seq_relationship.weight', 'cls.predictions.bias', 'cls.seq_relationship.bias', 'cls.predictions.decoder.weight', 'cls.predictions.decoder.bias']\n",
      "- This IS expected if you are initializing BertForTokenClassification from the checkpoint of a model trained on another task or with another architecture (e.g. initializing a BertForSequenceClassification model from a BertForPreTraining model).\n",
      "- This IS NOT expected if you are initializing BertForTokenClassification from the checkpoint of a model that you expect to be exactly identical (initializing a BertForSequenceClassification model from a BertForSequenceClassification model).\n",
      "Some weights of BertForTokenClassification were not initialized from the model checkpoint at nlpaueb/bert-base-uncased-echr and are newly initialized: ['classifier.weight', 'classifier.bias']\n",
      "You should probably TRAIN this model on a down-stream task to be able to use it for predictions and inference.\n"
     ]
    },
    {
     "ename": "AttributeError",
     "evalue": "'str' object has no attribute 'get_text'",
     "output_type": "error",
     "traceback": [
      "\u001b[0;31m---------------------------------------------------------------------------\u001b[0m",
      "\u001b[0;31mAttributeError\u001b[0m                            Traceback (most recent call last)",
      "\u001b[0;32m/tmp/ipykernel_68911/892501400.py\u001b[0m in \u001b[0;36m<module>\u001b[0;34m\u001b[0m\n\u001b[1;32m     22\u001b[0m \u001b[0mnlp\u001b[0m \u001b[0;34m=\u001b[0m \u001b[0mpipeline\u001b[0m\u001b[0;34m(\u001b[0m\u001b[0;34m\"ner\"\u001b[0m\u001b[0;34m,\u001b[0m \u001b[0mmodel\u001b[0m\u001b[0;34m=\u001b[0m\u001b[0mbertner\u001b[0m\u001b[0;34m,\u001b[0m \u001b[0mtokenizer\u001b[0m\u001b[0;34m=\u001b[0m\u001b[0mtokenizer\u001b[0m\u001b[0;34m,\u001b[0m\u001b[0maggregation_strategy\u001b[0m\u001b[0;34m=\u001b[0m\u001b[0;34m\"simple\"\u001b[0m\u001b[0;34m)\u001b[0m\u001b[0;34m\u001b[0m\u001b[0;34m\u001b[0m\u001b[0m\n\u001b[1;32m     23\u001b[0m \u001b[0;34m\u001b[0m\u001b[0m\n\u001b[0;32m---> 24\u001b[0;31m \u001b[0mprocess_single_article\u001b[0m\u001b[0;34m(\u001b[0m\u001b[0mdc\u001b[0m\u001b[0;34m)\u001b[0m\u001b[0;34m\u001b[0m\u001b[0;34m\u001b[0m\u001b[0m\n\u001b[0m",
      "\u001b[0;32m/tmp/ipykernel_68911/892501400.py\u001b[0m in \u001b[0;36mprocess_single_article\u001b[0;34m(article)\u001b[0m\n\u001b[1;32m     10\u001b[0m     \u001b[0mchunk_size\u001b[0m \u001b[0;34m=\u001b[0m \u001b[0;36m512\u001b[0m\u001b[0;34m\u001b[0m\u001b[0;34m\u001b[0m\u001b[0m\n\u001b[1;32m     11\u001b[0m     chunks = [article[i:i+chunk_size]\n\u001b[0;32m---> 12\u001b[0;31m               for i in range(0, len(article.get_text()), chunk_size)]\n\u001b[0m\u001b[1;32m     13\u001b[0m     \u001b[0mner_results\u001b[0m \u001b[0;34m=\u001b[0m \u001b[0;34m[\u001b[0m\u001b[0;34m]\u001b[0m\u001b[0;34m\u001b[0m\u001b[0;34m\u001b[0m\u001b[0m\n\u001b[1;32m     14\u001b[0m     \u001b[0;32mfor\u001b[0m \u001b[0mchunk\u001b[0m \u001b[0;32min\u001b[0m \u001b[0mchunks\u001b[0m\u001b[0;34m:\u001b[0m\u001b[0;34m\u001b[0m\u001b[0;34m\u001b[0m\u001b[0m\n",
      "\u001b[0;31mAttributeError\u001b[0m: 'str' object has no attribute 'get_text'"
     ]
    }
   ],
   "source": [
    "from transformers import BertTokenizer, BertConfig, BertForTokenClassification\n",
    "from transformers import BertTokenizer, BertForTokenClassification\n",
    "from transformers import pipeline\n",
    "\n",
    "from torch import cuda\n",
    "device = 'cuda' if cuda.is_available() else 'cpu'\n",
    "print(device)\n",
    "\n",
    "def process_single_article(article):\n",
    "    chunk_size = 512\n",
    "    chunks = [article[i:i+chunk_size]\n",
    "              for i in range(0, len(article.get_text()), chunk_size)]\n",
    "    ner_results = []\n",
    "    for chunk in chunks:\n",
    "        chunk_ner_results = nlp(chunk)\n",
    "        ner_results += chunk_ner_results\n",
    "\n",
    "    print(ner_results)\n",
    "    \n",
    "tokenizer = BertTokenizer.from_pretrained('nlpaueb/bert-base-uncased-echr')\n",
    "bertner = BertForTokenClassification.from_pretrained('nlpaueb/bert-base-uncased-echr')\n",
    "nlp = pipeline(\"ner\", model=bertner, tokenizer=tokenizer,aggregation_strategy=\"simple\")\n",
    "\n",
    "process_single_article(dc)\n"
   ]
  }
 ],
 "metadata": {
  "kernelspec": {
   "display_name": "Python 3 (ipykernel)",
   "language": "python",
   "name": "python3"
  },
  "language_info": {
   "codemirror_mode": {
    "name": "ipython",
    "version": 3
   },
   "file_extension": ".py",
   "mimetype": "text/x-python",
   "name": "python",
   "nbconvert_exporter": "python",
   "pygments_lexer": "ipython3",
   "version": "3.9.13"
  }
 },
 "nbformat": 4,
 "nbformat_minor": 5
}
